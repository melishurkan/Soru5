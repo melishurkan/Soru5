{
  "nbformat": 4,
  "nbformat_minor": 0,
  "metadata": {
    "colab": {
      "provenance": [],
      "authorship_tag": "ABX9TyNni8vAfCLz0hiSYx2oWLNr",
      "include_colab_link": true
    },
    "kernelspec": {
      "name": "python3",
      "display_name": "Python 3"
    },
    "language_info": {
      "name": "python"
    },
    "gpuClass": "standard"
  },
  "cells": [
    {
      "cell_type": "markdown",
      "metadata": {
        "id": "view-in-github",
        "colab_type": "text"
      },
      "source": [
        "<a href=\"https://colab.research.google.com/github/melishurkan/Soru5/blob/main/Soru5.ipynb\" target=\"_parent\"><img src=\"https://colab.research.google.com/assets/colab-badge.svg\" alt=\"Open In Colab\"/></a>"
      ]
    },
    {
      "cell_type": "code",
      "execution_count": 11,
      "metadata": {
        "id": "gTFayMLUaBl-",
        "colab": {
          "base_uri": "https://localhost:8080/",
          "height": 881
        },
        "outputId": "d3e53636-8085-4717-bd01-a138276d2e08"
      },
      "outputs": [
        {
          "output_type": "stream",
          "name": "stdout",
          "text": [
            "Epoch 0 | Train Loss: 0.32844 | Val Loss: 0.28823\n",
            "Epoch 1 | Train Loss: 0.26250 | Val Loss: 0.22117\n",
            "Epoch 2 | Train Loss: 0.22555 | Val Loss: 0.19398\n",
            "Epoch 3 | Train Loss: 0.19935 | Val Loss: 0.17871\n",
            "Epoch 4 | Train Loss: 0.17853 | Val Loss: 0.17082\n",
            "Epoch 5 | Train Loss: 0.16177 | Val Loss: 0.16461\n",
            "Epoch 6 | Train Loss: 0.14854 | Val Loss: 0.15935\n",
            "Epoch 7 | Train Loss: 0.13536 | Val Loss: 0.15623\n",
            "Epoch 8 | Train Loss: 0.12729 | Val Loss: 0.15312\n",
            "Epoch 9 | Train Loss: 0.11979 | Val Loss: 0.15246\n",
            "Epoch 10 | Train Loss: 0.11420 | Val Loss: 0.15043\n",
            "Epoch 11 | Train Loss: 0.10816 | Val Loss: 0.14914\n",
            "Epoch 12 | Train Loss: 0.10275 | Val Loss: 0.14758\n",
            "Epoch 13 | Train Loss: 0.09723 | Val Loss: 0.14630\n",
            "Epoch 14 | Train Loss: 0.09255 | Val Loss: 0.14649\n",
            "Epoch 15 | Train Loss: 0.08710 | Val Loss: 0.14451\n",
            "Epoch 16 | Train Loss: 0.08229 | Val Loss: 0.14308\n",
            "Epoch 17 | Train Loss: 0.07719 | Val Loss: 0.14389\n",
            "Test Loss: 0.13573 | Test Acc: 0.95466\n"
          ]
        },
        {
          "output_type": "display_data",
          "data": {
            "text/plain": [
              "<Figure size 640x480 with 1 Axes>"
            ],
            "image/png": "[encoded data removed]"
          },
          "metadata": {}
        },
        {
          "output_type": "stream",
          "name": "stdout",
          "text": [
            "Train:\n",
            "F1 Score: 0.97648 | Accuracy: 0.97684 | Recall: 0.97569 | Precision: 0.97727\n",
            "Test:\n",
            "F1 Score: 0.95413 | Accuracy: 0.95466 | Recall: 0.93814 | Precision: 0.97067\n",
            "Val:\n",
            "F1 Score: 0.94603 | Accuracy: 0.94586 | Recall: 0.95513 | Precision: 0.93711\n",
            "Çalışma zamanı : 1.7583200931549072 saniye\n"
          ]
        }
      ],
      "source": [
        "#5.1 \n",
        "\n",
        "import torch\n",
        "import torch.nn as nn\n",
        "import torch.optim as optim\n",
        "import pandas as pd\n",
        "import matplotlib.pyplot as plt\n",
        "import time\n",
        "baslangic_zamani=time.time()\n",
        "\n",
        "train_data = pd.read_csv(\"sample_data/cure_the_princess_train.csv\")\n",
        "test_data = pd.read_csv(\"sample_data/cure_the_princess_test.csv\")\n",
        "val_data = pd.read_csv(\"sample_data/cure_the_princess_validation.csv\")\n",
        "\n",
        "\n",
        "train_inputs = torch.tensor(train_data.drop(\"Cured\", axis=1).values, dtype=torch.float32)\n",
        "train_targets = torch.tensor(train_data[\"Cured\"].values, dtype=torch.float32)\n",
        "test_inputs = torch.tensor(test_data.drop(\"Cured\", axis=1).values, dtype=torch.float32)\n",
        "test_targets = torch.tensor(test_data[\"Cured\"].values, dtype=torch.float32)\n",
        "val_inputs = torch.tensor(val_data.drop(\"Cured\", axis=1).values, dtype=torch.float32)\n",
        "val_targets = torch.tensor(val_data[\"Cured\"].values, dtype=torch.float32)\n",
        "\n",
        "\n",
        "class MLP(nn.Module):\n",
        "    def __init__(self):\n",
        "        super().__init__()\n",
        "        self.hidden1 = nn.Linear(13, 100)\n",
        "        self.hidden2 = nn.Linear(100, 50)\n",
        "        self.out = nn.Linear(50, 1)\n",
        "\n",
        "    def forward(self, x):\n",
        "        x = torch.relu(self.hidden1(x))\n",
        "        x = torch.relu(self.hidden2(x))\n",
        "        x = torch.sigmoid(self.out(x))\n",
        "        return x\n",
        "\n",
        "\n",
        "model = MLP()\n",
        "optimizer = optim.SGD(model.parameters(), lr=0.01)\n",
        "criterion = nn.BCELoss()\n",
        "torch.manual_seed(190401079)\n",
        "\n",
        "\n",
        "train_losses, val_losses = [], []\n",
        "num_epochs = 1000\n",
        "batch_size = 10\n",
        "\n",
        "for epoch in range(num_epochs):\n",
        "    for i in range(0, len(train_inputs), batch_size):\n",
        "        batch_inputs = train_inputs[i:i+batch_size]\n",
        "        batch_targets = train_targets[i:i+batch_size]\n",
        "\n",
        "        optimizer.zero_grad()\n",
        "        outputs = model(batch_inputs).squeeze()\n",
        "        loss = criterion(outputs, batch_targets)\n",
        "        loss.backward()\n",
        "        optimizer.step()\n",
        "\n",
        "    \n",
        "    with torch.no_grad():\n",
        "        train_outputs = model(train_inputs).squeeze()\n",
        "        train_loss = criterion(train_outputs, train_targets)\n",
        "        train_losses.append(train_loss.item())\n",
        "\n",
        "        val_outputs = model(val_inputs).squeeze()\n",
        "        val_loss = criterion(val_outputs, val_targets)\n",
        "        val_losses.append(val_loss.item())\n",
        "\n",
        "        train_predictions = (model(train_inputs) > 0.5).float()\n",
        "        test_predictions = (model(test_inputs) > 0.5).float()\n",
        "        val_predictions = (model(val_inputs) > 0.5).float()\n",
        "\n",
        "    \n",
        "    if epoch > 10 and val_losses[-1] > val_losses[-3]:\n",
        "        break\n",
        "\n",
        "    \n",
        "    if epoch % 1 == 0:\n",
        "        print(f\"Epoch {epoch} | Train Loss: {train_loss:.5f} | Val Loss: {val_loss:.5f}\")\n",
        "\n",
        "    #5.2\n",
        "\n",
        "test_outputs = model(test_inputs).squeeze()\n",
        "test_loss = criterion(test_outputs, test_targets)\n",
        "test_acc = ((test_outputs > 0.5).float() == test_targets).float().mean()\n",
        "\n",
        "print(f\"Test Loss: {test_loss:.5f} | Test Acc: {test_acc:.5f}\")\n",
        "\n",
        "plt.plot(train_losses, label=\"Train Loss\")\n",
        "plt.plot(val_losses, label=\"Val Loss\")\n",
        "plt.legend()\n",
        "plt.show()\n",
        "#5.3\n",
        "\n",
        "from sklearn.metrics import f1_score, accuracy_score, recall_score, precision_score\n",
        "\n",
        "train_f1 = f1_score(train_targets, train_predictions)\n",
        "train_acc = accuracy_score(train_targets, train_predictions)\n",
        "train_recall = recall_score(train_targets, train_predictions)\n",
        "train_precision = precision_score(train_targets, train_predictions)\n",
        "\n",
        "test_f1 = f1_score(test_targets, test_predictions)\n",
        "test_acc = accuracy_score(test_targets, test_predictions)\n",
        "test_recall = recall_score(test_targets, test_predictions)\n",
        "test_precision = precision_score(test_targets, test_predictions)\n",
        "\n",
        "val_f1 = f1_score(val_targets, val_predictions)\n",
        "val_acc = accuracy_score(val_targets, val_predictions)\n",
        "val_recall = recall_score(val_targets, val_predictions)\n",
        "val_precision = precision_score(val_targets, val_predictions)\n",
        "\n",
        "\n",
        "print(\"Train:\")\n",
        "print(f\"F1 Score: {train_f1:.5f} | Accuracy: {train_acc:.5f} | Recall: {train_recall:.5f} | Precision: {train_precision:.5f}\")\n",
        "print(\"Test:\")\n",
        "print(f\"F1 Score: {test_f1:.5f} | Accuracy: {test_acc:.5f} | Recall: {test_recall:.5f} | Precision: {test_precision:.5f}\")\n",
        "print(\"Val:\")\n",
        "print(f\"F1 Score: {val_f1:.5f} | Accuracy: {val_acc:.5f} | Recall: {val_recall:.5f} | Precision: {val_precision:.5f}\")\n",
        "son_zaman=time.time()\n",
        "toplam_zaman=son_zaman-baslangic_zamani\n",
        "print(\"Çalışma zamanı :\",toplam_zaman,\"saniye\")"
      ]
    }
  ]
}